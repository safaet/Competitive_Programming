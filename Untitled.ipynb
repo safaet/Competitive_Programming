{
 "cells": [
  {
   "cell_type": "code",
   "execution_count": 27,
   "id": "89311c3d-81a3-4581-b0f1-22919d054610",
   "metadata": {},
   "outputs": [
    {
     "name": "stdout",
     "output_type": "stream",
     "text": [
      "[3, 4, 5]\n",
      "[4, 5]\n",
      "[4, 5, 1, 2, 3]\n",
      "nums =  [4, 5, 1, 2, 3]\n"
     ]
    }
   ],
   "source": [
    "# def rotate_right(arr, k):\n",
    "#     k = k % len(arr)  # Handle cases where k > len(arr)\n",
    "#     return arr[-k:] + arr[:-k]\n",
    "\n",
    "# Example\n",
    "nums= [1, 2, 3, 4, 5, 6]\n",
    "arr = [1, 2, 3, 4, 5]\n",
    "# rotated = rotate_right(arr, 2)\n",
    "l = len(arr)\n",
    "print(arr[2:])\n",
    "print(arr[-2:])\n",
    "print(arr[-2:] + arr[:(len(arr)-2)])\n",
    "\n",
    "nums = arr[-2:] + arr[:(len(arr)-2)]\n",
    "\n",
    "print(\"nums = \", nums)"
   ]
  },
  {
   "cell_type": "code",
   "execution_count": 31,
   "id": "f523f0ad-f776-4621-810e-737e039f9fe3",
   "metadata": {},
   "outputs": [
    {
     "name": "stdout",
     "output_type": "stream",
     "text": [
      "[9, 1, 2, 3, 4, 5, 6]\n",
      "7\n"
     ]
    }
   ],
   "source": [
    "nums = [1, 2, 3, 4, 5, 6, 7]\n",
    "\n",
    "a = nums.pop()\n",
    "nums.insert(0,9)\n",
    "print(nums)\n",
    "print(a)"
   ]
  },
  {
   "cell_type": "code",
   "execution_count": 37,
   "id": "64924f9d-778c-4f73-880c-c5a292da4985",
   "metadata": {},
   "outputs": [
    {
     "name": "stdout",
     "output_type": "stream",
     "text": [
      "[7, 6, 5, 4, 3, 2, 1]\n",
      "<class 'list_reverseiterator'>\n",
      "[6, 7]\n"
     ]
    }
   ],
   "source": [
    "nums = [1, 2, 3, 4, 5, 6, 7]\n",
    "nums.reverse()\n",
    "\n",
    "print(nums)\n",
    "a = reversed(nums[:2])\n",
    "print(type(a))\n",
    "print(list(a))"
   ]
  },
  {
   "cell_type": "code",
   "execution_count": 5,
   "id": "0d35459f-d070-4086-ac46-2d4c59a4efd1",
   "metadata": {},
   "outputs": [],
   "source": [
    "def fn(nums, k):\n",
    "    left = 0\n",
    "    curr = 0\n",
    "    answer = 0\n",
    "    for right in range(len(nums)):\n",
    "        curr += nums[right]\n",
    "        while(curr > k):\n",
    "            curr -= nums[left]\n",
    "            left+=1\n",
    "        answer = max(answer, right-left+1)\n",
    "\n",
    "    return answer"
   ]
  },
  {
   "cell_type": "code",
   "execution_count": 7,
   "id": "0e7235a0-cae2-4316-866d-b5a953948f2c",
   "metadata": {},
   "outputs": [],
   "source": [
    "nums = [3, 6, 2, 8, 1, 4, 1, 5]\n",
    "obj = fn(nums, 5)"
   ]
  },
  {
   "cell_type": "code",
   "execution_count": 8,
   "id": "9a916d5a-a48d-4120-8acc-21975c008c4e",
   "metadata": {},
   "outputs": [
    {
     "name": "stdout",
     "output_type": "stream",
     "text": [
      "2\n"
     ]
    }
   ],
   "source": [
    "print(obj)"
   ]
  },
  {
   "cell_type": "code",
   "execution_count": 103,
   "id": "b800b972-331e-45ca-a27f-c324dc03c4dd",
   "metadata": {},
   "outputs": [],
   "source": [
    "s = 'ABCDEFG'"
   ]
  },
  {
   "cell_type": "code",
   "execution_count": 104,
   "id": "1717bd3f-70d8-4cb7-a299-5419228145c8",
   "metadata": {},
   "outputs": [],
   "source": [
    "m = 1"
   ]
  },
  {
   "cell_type": "code",
   "execution_count": 105,
   "id": "a7317f99-cbd8-4da4-90e1-9d4838de7d0f",
   "metadata": {},
   "outputs": [],
   "source": [
    "fs = s*m\n",
    "ans = len(fs)"
   ]
  },
  {
   "cell_type": "code",
   "execution_count": 106,
   "id": "ffff3959-954e-453a-867f-da94ea3b5995",
   "metadata": {},
   "outputs": [
    {
     "name": "stdout",
     "output_type": "stream",
     "text": [
      "7\n"
     ]
    }
   ],
   "source": [
    "print(ans)"
   ]
  },
  {
   "cell_type": "code",
   "execution_count": 107,
   "id": "46287639-e3b6-4d64-801e-d6b30c2cdb0e",
   "metadata": {},
   "outputs": [],
   "source": [
    "n = 'BGECDCBDED'"
   ]
  },
  {
   "cell_type": "code",
   "execution_count": 108,
   "id": "74c9886a-ea9a-4c16-b4eb-044c2869f0f9",
   "metadata": {},
   "outputs": [
    {
     "name": "stdout",
     "output_type": "stream",
     "text": [
      "['B', 'G', 'E', 'C', 'D', 'C', 'B', 'D', 'E', 'D']\n"
     ]
    }
   ],
   "source": [
    "nl = list(n)\n",
    "print(nl)"
   ]
  },
  {
   "cell_type": "code",
   "execution_count": 109,
   "id": "d89a5a76-9302-44f6-9d38-bdde4d7bf41f",
   "metadata": {},
   "outputs": [],
   "source": [
    "# nl.sort()\n",
    "# print(nl)"
   ]
  },
  {
   "cell_type": "code",
   "execution_count": 110,
   "id": "5d3cfbd4-ac7f-4d59-944b-d4b916512d4f",
   "metadata": {},
   "outputs": [
    {
     "name": "stdout",
     "output_type": "stream",
     "text": [
      "B\n",
      "ans:  6\n",
      "fs:  ACDEFG\n",
      "G\n",
      "ans:  5\n",
      "fs:  ACDEF\n",
      "E\n",
      "ans:  4\n",
      "fs:  ACDF\n",
      "C\n",
      "ans:  3\n",
      "fs:  ADF\n",
      "D\n",
      "ans:  2\n",
      "fs:  AF\n"
     ]
    }
   ],
   "source": [
    "for i in range(len(nl)):\n",
    "    if nl[i] in fs:\n",
    "        print(n[i])\n",
    "        ans = ans-1\n",
    "        print(\"ans: \", ans)\n",
    "        fs = fs.replace(n[i], '')\n",
    "        print(\"fs: \", fs)"
   ]
  },
  {
   "cell_type": "code",
   "execution_count": 111,
   "id": "b72398ab-f548-48df-8ffd-7bc5869ed868",
   "metadata": {},
   "outputs": [
    {
     "name": "stdout",
     "output_type": "stream",
     "text": [
      "2\n"
     ]
    }
   ],
   "source": [
    "print(ans)"
   ]
  },
  {
   "cell_type": "code",
   "execution_count": 112,
   "id": "ce1ef41b-4a31-481d-becd-bb3eb4762b88",
   "metadata": {},
   "outputs": [
    {
     "name": "stdin",
     "output_type": "stream",
     "text": [
      " 1 2\n"
     ]
    }
   ],
   "source": [
    "n, m = map(int, input().split())"
   ]
  },
  {
   "cell_type": "code",
   "execution_count": 113,
   "id": "3f149cb2-f883-4357-a25a-ae4126fddf56",
   "metadata": {},
   "outputs": [
    {
     "name": "stdout",
     "output_type": "stream",
     "text": [
      "2\n",
      "1\n"
     ]
    }
   ],
   "source": [
    "print(m)\n",
    "print(n)"
   ]
  },
  {
   "cell_type": "code",
   "execution_count": null,
   "id": "617382c9-95eb-4aa2-af3c-4f73b2861ebe",
   "metadata": {},
   "outputs": [
    {
     "name": "stdin",
     "output_type": "stream",
     "text": [
      " 1\n",
      " 10 1\n",
      " BGECDCBDED\n"
     ]
    },
    {
     "name": "stdout",
     "output_type": "stream",
     "text": [
      "2\n"
     ]
    },
    {
     "name": "stdin",
     "output_type": "stream",
     "text": [
      " 10 2\n",
      " BGECDCBDED\n"
     ]
    },
    {
     "name": "stdout",
     "output_type": "stream",
     "text": [
      "5\n"
     ]
    }
   ],
   "source": [
    "def solve(m, s):\n",
    "    ns = 'ABCDEFG'\n",
    "    fs = ns * m\n",
    "    ans = len(fs)\n",
    "\n",
    "    for i in range(len(s)):\n",
    "        if s[i] in fs:\n",
    "            ans = ans -1\n",
    "            fs = fs.replace(s[i], '', 1)\n",
    "    return ans\n",
    "\n",
    "\n",
    "if __name__ == \"__main__\":\n",
    "    t = int(input())\n",
    "    while t>0:\n",
    "        n, m = map(int, input().split())\n",
    "        s = input()\n",
    "        print(solve(m, s))\n",
    "        t = t-1"
   ]
  },
  {
   "cell_type": "code",
   "execution_count": null,
   "id": "7333393a-933e-45c9-a287-2ad8ab1e83f1",
   "metadata": {},
   "outputs": [],
   "source": []
  },
  {
   "cell_type": "markdown",
   "id": "f001beab-808e-4898-8f16-41415d47ec72",
   "metadata": {},
   "source": [
    "# "
   ]
  }
 ],
 "metadata": {
  "kernelspec": {
   "display_name": "Python 3 (ipykernel)",
   "language": "python",
   "name": "python3"
  },
  "language_info": {
   "codemirror_mode": {
    "name": "ipython",
    "version": 3
   },
   "file_extension": ".py",
   "mimetype": "text/x-python",
   "name": "python",
   "nbconvert_exporter": "python",
   "pygments_lexer": "ipython3",
   "version": "3.12.3"
  }
 },
 "nbformat": 4,
 "nbformat_minor": 5
}
