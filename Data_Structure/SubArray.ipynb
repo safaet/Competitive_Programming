{
 "cells": [
  {
   "cell_type": "markdown",
   "id": "d819d03f-bd03-4fd3-80fe-cc58ed244901",
   "metadata": {},
   "source": [
    "Let's say that we are given a positive integer array nums and an integer k. We need to find the longest subarray that has a  sum less than or equal k. For this example, let `nums = [3, 2, 1, 3, 1, 1]` and `k = 5`"
   ]
  },
  {
   "cell_type": "code",
   "execution_count": 1,
   "id": "1f6b0eba-4d8a-410d-8e68-f507270ccd02",
   "metadata": {},
   "outputs": [],
   "source": [
    "def find_length(nums, k):\n",
    "    # curr is the current sum of the window\n",
    "    left = curr = ans = 0\n",
    "    for right in range(len(nums)):\n",
    "        curr += nums[right]\n",
    "        while curr > k:\n",
    "            curr -= nums[left]\n",
    "            left += 1\n",
    "        ans = max(ans, right-left+1)\n",
    "    return ans"
   ]
  },
  {
   "cell_type": "code",
   "execution_count": 2,
   "id": "6d08ac6d-3ed5-458a-ad46-ada7dfab37e3",
   "metadata": {},
   "outputs": [
    {
     "name": "stdout",
     "output_type": "stream",
     "text": [
      "4\n"
     ]
    }
   ],
   "source": [
    "nums = [3, 1, 2, 7, 4, 2, 1, 1, 5]\n",
    "print(find_length(nums, 8))"
   ]
  },
  {
   "cell_type": "markdown",
   "id": "a9884fe4-ab7d-4302-afd7-c3102743f6a4",
   "metadata": {},
   "source": [
    "**Example 2:** You are given a binary string s (a string containing only \"0\" and \"1\"). You may choose up to one \"0\" and flip it to a \"1\". What is the length of the longest substring achievable that contains only \"1\"?\n",
    "\n",
    "**For example**, given s = \"1101100111\", the answer is 5. if you perform the flip at index 2, the string becomes 1111100111."
   ]
  },
  {
   "cell_type": "code",
   "execution_count": 4,
   "id": "e957e26d-a340-41f6-a452-3f24b2f7ad43",
   "metadata": {},
   "outputs": [],
   "source": [
    "def find_length(s):\n",
    "    # curr is the current number of zeros in the window\n",
    "    left = curr = ans = 0\n",
    "    for right in range(len(s)):\n",
    "        if s[right] == '0':\n",
    "            curr += 1\n",
    "        while curr > 1:\n",
    "            if s[left] == '0':\n",
    "                curr -= 1\n",
    "            left += 1\n",
    "        ans = max(ans, right-left+1)\n",
    "    return ans\n",
    "        "
   ]
  },
  {
   "cell_type": "code",
   "execution_count": 5,
   "id": "85de619a-2e72-489e-b8da-80f485974e46",
   "metadata": {},
   "outputs": [
    {
     "name": "stdout",
     "output_type": "stream",
     "text": [
      "5\n"
     ]
    }
   ],
   "source": [
    "s = \"1101100111\"\n",
    "print(find_length(s))"
   ]
  },
  {
   "cell_type": "code",
   "execution_count": null,
   "id": "3c635f14-b052-4760-83c8-9fe87c5cd8b1",
   "metadata": {},
   "outputs": [],
   "source": []
  }
 ],
 "metadata": {
  "kernelspec": {
   "display_name": "Python 3 (ipykernel)",
   "language": "python",
   "name": "python3"
  },
  "language_info": {
   "codemirror_mode": {
    "name": "ipython",
    "version": 3
   },
   "file_extension": ".py",
   "mimetype": "text/x-python",
   "name": "python",
   "nbconvert_exporter": "python",
   "pygments_lexer": "ipython3",
   "version": "3.11.6"
  }
 },
 "nbformat": 4,
 "nbformat_minor": 5
}
