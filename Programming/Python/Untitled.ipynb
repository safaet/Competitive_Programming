{
 "cells": [
  {
   "cell_type": "code",
   "execution_count": 33,
   "id": "10981eee",
   "metadata": {},
   "outputs": [
    {
     "name": "stdout",
     "output_type": "stream",
     "text": [
      "[18, 6, 6, 2, 10, 1, 3]\n"
     ]
    }
   ],
   "source": [
    "nums = [18, 6, 10, 3]\n",
    "nums2 = [1, 2, 3]\n",
    "\n",
    "for i in range(0, len(nums)+1, 2):\n",
    "    a = nums[i]\n",
    "    b = nums[i+1]\n",
    "   \n",
    "    d=0\n",
    "    if(a<b):\n",
    "        temp = a\n",
    "        a = b\n",
    "        b = temp\n",
    "    c = a%b\n",
    "    while(c != 0):\n",
    "        a = b\n",
    "        b = c\n",
    "        c = a%b\n",
    "    nums.insert(i+1, b)\n",
    "\n",
    "print(nums)"
   ]
  },
  {
   "cell_type": "code",
   "execution_count": 4,
   "id": "bbb8967b",
   "metadata": {},
   "outputs": [
    {
     "name": "stdout",
     "output_type": "stream",
     "text": [
      "2\n"
     ]
    }
   ],
   "source": [
    "d = {'apple':2, 'pear': 1, 'fruit': 19, 'orange': 5, 'banana': 3, 'grapes': 2, 'watermelon': 7}\n",
    "\n",
    "print(d['apple'])"
   ]
  },
  {
   "cell_type": "code",
   "execution_count": 2,
   "id": "5b927303",
   "metadata": {},
   "outputs": [
    {
     "name": "stdout",
     "output_type": "stream",
     "text": [
      "apple\n",
      "pear\n",
      "fruit\n",
      "orange\n",
      "banana\n",
      "grapes\n",
      "watermelon\n"
     ]
    }
   ],
   "source": [
    "for key in d.keys():\n",
    "    print(key)"
   ]
  },
  {
   "cell_type": "code",
   "execution_count": 3,
   "id": "33ed3397",
   "metadata": {},
   "outputs": [
    {
     "name": "stdout",
     "output_type": "stream",
     "text": [
      "apple\n",
      "pear\n",
      "fruit\n",
      "orange\n",
      "banana\n",
      "grapes\n",
      "watermelon\n"
     ]
    }
   ],
   "source": [
    "for key in d:\n",
    "    print(key)"
   ]
  },
  {
   "cell_type": "code",
   "execution_count": 4,
   "id": "9912a021",
   "metadata": {},
   "outputs": [
    {
     "name": "stdout",
     "output_type": "stream",
     "text": [
      "2\n",
      "1\n",
      "19\n",
      "5\n",
      "3\n",
      "2\n",
      "7\n"
     ]
    }
   ],
   "source": [
    "for key in d:\n",
    "    print(d[key])"
   ]
  },
  {
   "cell_type": "code",
   "execution_count": null,
   "id": "070ab9e4",
   "metadata": {},
   "outputs": [],
   "source": []
  }
 ],
 "metadata": {
  "kernelspec": {
   "display_name": "Python 3 (ipykernel)",
   "language": "python",
   "name": "python3"
  },
  "language_info": {
   "codemirror_mode": {
    "name": "ipython",
    "version": 3
   },
   "file_extension": ".py",
   "mimetype": "text/x-python",
   "name": "python",
   "nbconvert_exporter": "python",
   "pygments_lexer": "ipython3",
   "version": "3.11.4"
  }
 },
 "nbformat": 4,
 "nbformat_minor": 5
}
