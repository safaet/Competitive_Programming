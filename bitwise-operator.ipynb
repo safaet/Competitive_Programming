{
 "cells": [
  {
   "cell_type": "markdown",
   "id": "c6cc481a-c269-4218-aa1b-a41da2d9c078",
   "metadata": {},
   "source": [
    "# Bitwise AND Operator\n",
    "\n",
    "The **Python Bitwise AND(&)** operator takes two equal-length bit patterns as parameters. The two-bit integers are compared. If the bits in the compared positions of the bit patterns are 1, then athe resulting bit is 1. If not, it is 0.\n",
    "\n",
    "**Example:** Take two bit Values X and Y, Where X = 7=(111)<sub>2</sub> and Y=4=(100)<sub>2</sub>. Take Bitwise and of both X & Y.\n",
    "\n",
    "X & Y = (100)<sub>2</sub> = 4"
   ]
  },
  {
   "cell_type": "code",
   "execution_count": 1,
   "id": "d238d6af-5229-40d6-bc79-57d82b5fd24e",
   "metadata": {},
   "outputs": [
    {
     "name": "stdout",
     "output_type": "stream",
     "text": [
      "a & b =  4\n"
     ]
    }
   ],
   "source": [
    "a = 7\n",
    "b = 4\n",
    "# Print bitwise AND operator\n",
    "print(\"a & b = \", a&b)"
   ]
  },
  {
   "cell_type": "markdown",
   "id": "6c3a7a87-6a8a-478e-8f6a-e2445642cfe0",
   "metadata": {},
   "source": [
    "# Bitwise OR Operator\n",
    "The **Python Bitwise OR(|)** Operator takes two equivalent length bit designs as boundaries; if two bits in the looked-at position are 0, the next bit is zero. If not, it is 1.\n",
    "\n",
    "**Example:** Take two bit values X and Y, where X = 7=(111)<sub>2</sub> and Y = 4 (100)<sub>2</sub>. Take Bitwise OR of both X, Y\n",
    "\n",
    "X | Y = (111)<sub>2</sub> = 7"
   ]
  },
  {
   "cell_type": "code",
   "execution_count": 3,
   "id": "25ee2522-2f2a-4213-b957-160052b6fc7a",
   "metadata": {},
   "outputs": [
    {
     "name": "stdout",
     "output_type": "stream",
     "text": [
      "a | b = 7\n"
     ]
    }
   ],
   "source": [
    "a = 7\n",
    "b = 4\n",
    "\n",
    "# Print bitwise OR operator\n",
    "print(\"a | b =\", a | b)"
   ]
  },
  {
   "cell_type": "markdown",
   "id": "68568bc1-2965-4029-a12b-4e3047e1e2f2",
   "metadata": {},
   "source": [
    "# Bitwise XOR Operator\n",
    "\n",
    "The **Python Bitwise XOR(^)** Operator also known as the exclusive OR operator, is used to perform the XOR operator on two operands. XOR stands for \"exclusive or\", and it returns true if and only if exactly one of the operands is true. In the context of bitwise operations, it compares corresponding bits of two operands. if the bits are different, it returns 1; otherwise it returns 0.\n",
    "\n",
    "**Example:** Take two bit values X and Y, where X=7=(111)<sub>2</sub> and Y = 4 = (100)<sub>2</sub>. Take Bitwise and of both X & Y.\n",
    "\n",
    "X^Y = (011)<sub>2</sub> = 3"
   ]
  },
  {
   "cell_type": "code",
   "execution_count": 4,
   "id": "6708c7e9-371c-4ee1-a338-4257b5f6b00c",
   "metadata": {},
   "outputs": [
    {
     "name": "stdout",
     "output_type": "stream",
     "text": [
      "a ^ b = 3\n"
     ]
    }
   ],
   "source": [
    "a = 7\n",
    "b = 4\n",
    "\n",
    "# Print Bitwise XOR operator\n",
    "print(\"a ^ b =\", a^b)"
   ]
  },
  {
   "cell_type": "markdown",
   "id": "d1e8a9ae-b71c-4296-97ea-adf0a228cf02",
   "metadata": {},
   "source": [
    "# Bitwise NOT Operator\n",
    "\n",
    "The preceding three bitwise operators are binary operators, necessitating two operands to function. However, unlike the others, this operator operates with only one operand.\n",
    "\n",
    "The **Python Bitwise NOT(~)** Operator works with a single value and returns it's one's complement. This means it toggles all bits in the value, transforming 0 bits to 1 and 1 bits to 0, resulting in the one's complement of the binary number.\n",
    "\n",
    "**Example:** Take two bit values X and Y, where X = 5 = (101)<sub>2</sub>. Take Bitwise NOT of X.\n",
    "\n",
    "~(101)<sub>2</sub> = (010)<sub>2</sub> = -6"
   ]
  },
  {
   "cell_type": "code",
   "execution_count": 7,
   "id": "ceebbb38-4de8-43c5-950f-18ffaef42825",
   "metadata": {},
   "outputs": [
    {
     "name": "stdout",
     "output_type": "stream",
     "text": [
      "~a = -6\n"
     ]
    }
   ],
   "source": [
    "a = 5\n",
    "\n",
    "# Print bitwise NOT operator\n",
    "print(\"~a =\", ~a)"
   ]
  },
  {
   "cell_type": "markdown",
   "id": "563877b5-c00f-47c1-8c38-f071900bd578",
   "metadata": {},
   "source": [
    "# Bitwise Shift\n",
    "These operators are used to shift the bits of a number left or right thereby multiplying or dividing the number by two respectively. they can be used when we have to multiply or divide a number by two."
   ]
  },
  {
   "cell_type": "markdown",
   "id": "2eee337b-a2bf-4110-a94d-c7c63886e263",
   "metadata": {},
   "source": [
    "# Python Bitwise Right Shift\n",
    "Shifts the bits of the number to the right and fills 0 on voids left (fills 1 in the caseof negative number) as a result. Similar effect as of dividing the number with some power of two.\n",
    "\n",
    "```\n",
    "Example 1:\n",
    "a = 10 = 0000 1010 (Binary)\n",
    "a >> 1 = 0000 0101 = 5\n",
    "\n",
    "Example 2:\n",
    "a = -10 = 1111 0110 (Binary)\n",
    "a >> 1 = 1111 1011 = -5\n",
    "\n",
    "```"
   ]
  },
  {
   "cell_type": "code",
   "execution_count": 8,
   "id": "a05d828b-d24b-479e-b7a1-02f3f64ca4e9",
   "metadata": {},
   "outputs": [
    {
     "name": "stdout",
     "output_type": "stream",
     "text": [
      "a >> 1 = 5\n",
      "b >> 1 = -5\n"
     ]
    }
   ],
   "source": [
    "a = 10\n",
    "b = -10\n",
    "\n",
    "# Print bitwise right shift operator\n",
    "print(\"a >> 1 =\", a >> 1)\n",
    "print(\"b >> 1 =\", b >> 1)"
   ]
  },
  {
   "cell_type": "markdown",
   "id": "5cba3c0b-7aaf-4ac3-92a9-3bc52c5ab11a",
   "metadata": {},
   "source": [
    "# Python Bitwisse Left Shift\n",
    "Shifts the bits of the number to the left and fills 0 on voids right as a result. Similar effect as of multiplying the number with some power of two.\n",
    "\n",
    "```\n",
    "Example 1:\n",
    "a = 5 0000 0101 (Binary)\n",
    "a << 1 = 0000 1010 = 10\n",
    "a << 2 = 0001 0100 = 20\n",
    "\n",
    "Example 2:\n",
    "b = -10 = 1111 0110 (Binary)\n",
    "b << 1 = 1110 1100 = -20\n",
    "b << 2 = 1101 1000 = -40"
   ]
  },
  {
   "cell_type": "code",
   "execution_count": 10,
   "id": "9b1cc116-38b3-4354-9e26-c31879f9ef8a",
   "metadata": {},
   "outputs": [
    {
     "name": "stdout",
     "output_type": "stream",
     "text": [
      "a << 1 = 10\n",
      "b << 1 = -20\n"
     ]
    }
   ],
   "source": [
    "a = 5\n",
    "b = -10\n",
    "\n",
    "# Print bitwise left shift operator\n",
    "print(\"a << 1 =\", a << 1)\n",
    "print(\"b << 1 =\", b << 1)"
   ]
  },
  {
   "cell_type": "markdown",
   "id": "be6da58a-a2b9-4007-b21b-cd1c70a53779",
   "metadata": {},
   "source": [
    "# Bitwise Operator Overloading\n",
    "Operator Overloading means giving extended meaning beyond their predefined operational meaning. For example operator + is used to add two integers as well as join two strings and merge two lists. It is achievable because the '+' operator is overloaded by int class and str class. You might have noticed that the same built-in operator or function shows different behavior for objects of different classes, this is called **Operator Overloading.**\n",
    "\n",
    "Bellow is sample example of Bitwise operator overloading"
   ]
  },
  {
   "cell_type": "code",
   "execution_count": null,
   "id": "0d993194-cc0c-49b4-ab25-2e2271efe003",
   "metadata": {},
   "outputs": [],
   "source": [
    "# Operator Overloading\n",
    "\n",
    "class Geek():\n",
    "\n",
    "    def __init__(self, value):\n",
    "        self.value = value\n",
    "\n",
    "    def __and__(self, obj):\n",
    "        print(\"And operator overloaded\")\n",
    "        if isinstance(obj, Geek):\n",
    "            return self.value & obj.value\n",
    "        else:\n",
    "            raise ValueError(\"Must be a object of class Geek\")\n",
    "\n"
   ]
  }
 ],
 "metadata": {
  "kernelspec": {
   "display_name": "Python 3 (ipykernel)",
   "language": "python",
   "name": "python3"
  },
  "language_info": {
   "codemirror_mode": {
    "name": "ipython",
    "version": 3
   },
   "file_extension": ".py",
   "mimetype": "text/x-python",
   "name": "python",
   "nbconvert_exporter": "python",
   "pygments_lexer": "ipython3",
   "version": "3.11.6"
  }
 },
 "nbformat": 4,
 "nbformat_minor": 5
}
